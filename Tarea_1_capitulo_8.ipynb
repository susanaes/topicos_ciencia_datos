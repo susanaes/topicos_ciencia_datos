{
  "nbformat": 4,
  "nbformat_minor": 0,
  "metadata": {
    "colab": {
      "name": "Tarea_1_capitulo 8.ipynb",
      "provenance": [],
      "authorship_tag": "ABX9TyNNqzK9YxJrILNjGtEIJLbB",
      "include_colab_link": true
    },
    "kernelspec": {
      "name": "python3",
      "display_name": "Python 3"
    }
  },
  "cells": [
    {
      "cell_type": "markdown",
      "metadata": {
        "id": "view-in-github",
        "colab_type": "text"
      },
      "source": [
        "<a href=\"https://colab.research.google.com/github/susanaes/topicos_ciencia_datos/blob/Trabajo_Tarea1/Tarea_1_capitulo_8.ipynb\" target=\"_parent\"><img src=\"https://colab.research.google.com/assets/colab-badge.svg\" alt=\"Open In Colab\"/></a>"
      ]
    },
    {
      "cell_type": "code",
      "metadata": {
        "id": "8jd0ZxIOF6ND"
      },
      "source": [
        ""
      ],
      "execution_count": null,
      "outputs": []
    },
    {
      "cell_type": "markdown",
      "metadata": {
        "id": "Im8ldNRNGA9-"
      },
      "source": [
        "En base a los códigos que estan en el capitulo 8:\n",
        "\n",
        "https://github.com/ricardo-rios/topicos_ciencia_datos/tree/master/unidad_ii/intro_ml/chapter8\n",
        "\n",
        "Desarrollar un código en google colab (Notebook) que permita hacer una selección de variables del siguiente dataset:\n",
        "\n",
        "https://raw.githubusercontent.com/ricardo-rios/topicos_ciencia_datos/master/tareas/tarea0001/datos0001.csv\n",
        "\n",
        "Los nombres de las variables estan en la primera fila. Los predictores son X1, X2, ..., X25 y la variable a predecir (target) es Y. Enviar el código en formato ipynb a más tardar poco antes de la medianoche del 10 de Octubre por la plataforma google classroom."
      ]
    },
    {
      "cell_type": "code",
      "metadata": {
        "id": "Mrs8v1pfGOQ9"
      },
      "source": [
        ""
      ],
      "execution_count": null,
      "outputs": []
    },
    {
      "cell_type": "markdown",
      "metadata": {
        "id": "oiaXongxGQWK"
      },
      "source": [
        "## Feature_importance \n",
        "\n",
        "\n",
        "\n"
      ]
    },
    {
      "cell_type": "markdown",
      "metadata": {
        "id": "ftAqpMjMGptc"
      },
      "source": [
        "### **Feature Importance with Extra Trees Classifier**\n",
        "\n",
        "\n",
        "\n"
      ]
    },
    {
      "cell_type": "code",
      "metadata": {
        "id": "uA6eBre5GfQq"
      },
      "source": [
        "from pandas import read_csv\n",
        "from sklearn.ensemble import ExtraTreesClassifier"
      ],
      "execution_count": 1,
      "outputs": []
    },
    {
      "cell_type": "code",
      "metadata": {
        "id": "xUsYWBT1G642"
      },
      "source": [
        "url = \"https://raw.githubusercontent.com/susanaes/topicos_ciencia_datos/master/tareas/tarea0001/datos0001.csv\"\n",
        "\n",
        "dataframe = read_csv(url)\n",
        "\n",
        "# separate array into input and output components\n",
        "X = dataframe.iloc[:,0:25]\n",
        "Y = dataframe.iloc[:,25]"
      ],
      "execution_count": 10,
      "outputs": []
    },
    {
      "cell_type": "code",
      "metadata": {
        "id": "7AdfCNqAI-JH",
        "outputId": "6367573f-0124-40fa-eb55-a655344c0013",
        "colab": {
          "base_uri": "https://localhost:8080/",
          "height": 226
        }
      },
      "source": [
        "dataframe.head()"
      ],
      "execution_count": 8,
      "outputs": [
        {
          "output_type": "execute_result",
          "data": {
            "text/html": [
              "<div>\n",
              "<style scoped>\n",
              "    .dataframe tbody tr th:only-of-type {\n",
              "        vertical-align: middle;\n",
              "    }\n",
              "\n",
              "    .dataframe tbody tr th {\n",
              "        vertical-align: top;\n",
              "    }\n",
              "\n",
              "    .dataframe thead th {\n",
              "        text-align: right;\n",
              "    }\n",
              "</style>\n",
              "<table border=\"1\" class=\"dataframe\">\n",
              "  <thead>\n",
              "    <tr style=\"text-align: right;\">\n",
              "      <th></th>\n",
              "      <th>X1</th>\n",
              "      <th>X2</th>\n",
              "      <th>X3</th>\n",
              "      <th>X4</th>\n",
              "      <th>X5</th>\n",
              "      <th>X6</th>\n",
              "      <th>X7</th>\n",
              "      <th>X8</th>\n",
              "      <th>X9</th>\n",
              "      <th>X10</th>\n",
              "      <th>X11</th>\n",
              "      <th>X12</th>\n",
              "      <th>X13</th>\n",
              "      <th>X14</th>\n",
              "      <th>X15</th>\n",
              "      <th>X16</th>\n",
              "      <th>X17</th>\n",
              "      <th>X18</th>\n",
              "      <th>X19</th>\n",
              "      <th>X20</th>\n",
              "      <th>X21</th>\n",
              "      <th>X22</th>\n",
              "      <th>X23</th>\n",
              "      <th>X24</th>\n",
              "      <th>X25</th>\n",
              "      <th>Y</th>\n",
              "    </tr>\n",
              "  </thead>\n",
              "  <tbody>\n",
              "    <tr>\n",
              "      <th>0</th>\n",
              "      <td>0.099427</td>\n",
              "      <td>0.757122</td>\n",
              "      <td>0.347820</td>\n",
              "      <td>-1.070386</td>\n",
              "      <td>1.113921</td>\n",
              "      <td>-0.288057</td>\n",
              "      <td>2.092496</td>\n",
              "      <td>0.304778</td>\n",
              "      <td>-0.329318</td>\n",
              "      <td>-0.038145</td>\n",
              "      <td>2.921090</td>\n",
              "      <td>3.408453</td>\n",
              "      <td>-0.437612</td>\n",
              "      <td>-3.465816</td>\n",
              "      <td>1.562345</td>\n",
              "      <td>-1.799570</td>\n",
              "      <td>-1.245938</td>\n",
              "      <td>-2.257595</td>\n",
              "      <td>-0.960139</td>\n",
              "      <td>-1.144377</td>\n",
              "      <td>0.194332</td>\n",
              "      <td>-1.729705</td>\n",
              "      <td>2.010244</td>\n",
              "      <td>0.640326</td>\n",
              "      <td>-0.696634</td>\n",
              "      <td>0</td>\n",
              "    </tr>\n",
              "    <tr>\n",
              "      <th>1</th>\n",
              "      <td>0.324543</td>\n",
              "      <td>-0.260349</td>\n",
              "      <td>-0.692412</td>\n",
              "      <td>-1.098060</td>\n",
              "      <td>-1.406162</td>\n",
              "      <td>-0.203042</td>\n",
              "      <td>0.332072</td>\n",
              "      <td>0.584899</td>\n",
              "      <td>0.733966</td>\n",
              "      <td>3.067573</td>\n",
              "      <td>-0.147917</td>\n",
              "      <td>-0.870159</td>\n",
              "      <td>-0.098151</td>\n",
              "      <td>2.753201</td>\n",
              "      <td>2.299927</td>\n",
              "      <td>-0.489224</td>\n",
              "      <td>-2.583689</td>\n",
              "      <td>4.949201</td>\n",
              "      <td>-1.341392</td>\n",
              "      <td>-3.202330</td>\n",
              "      <td>-1.561950</td>\n",
              "      <td>0.152978</td>\n",
              "      <td>-2.038009</td>\n",
              "      <td>1.653168</td>\n",
              "      <td>0.755058</td>\n",
              "      <td>0</td>\n",
              "    </tr>\n",
              "    <tr>\n",
              "      <th>2</th>\n",
              "      <td>-0.189937</td>\n",
              "      <td>0.402457</td>\n",
              "      <td>0.089148</td>\n",
              "      <td>0.054241</td>\n",
              "      <td>0.314468</td>\n",
              "      <td>-1.655762</td>\n",
              "      <td>2.168431</td>\n",
              "      <td>0.631021</td>\n",
              "      <td>0.543823</td>\n",
              "      <td>-1.299421</td>\n",
              "      <td>1.554148</td>\n",
              "      <td>1.773814</td>\n",
              "      <td>-0.056310</td>\n",
              "      <td>-5.309216</td>\n",
              "      <td>3.922193</td>\n",
              "      <td>-2.894797</td>\n",
              "      <td>-1.066901</td>\n",
              "      <td>-4.590644</td>\n",
              "      <td>1.501284</td>\n",
              "      <td>0.231559</td>\n",
              "      <td>0.477412</td>\n",
              "      <td>0.820842</td>\n",
              "      <td>2.228478</td>\n",
              "      <td>1.636842</td>\n",
              "      <td>-0.630777</td>\n",
              "      <td>0</td>\n",
              "    </tr>\n",
              "    <tr>\n",
              "      <th>3</th>\n",
              "      <td>-1.213477</td>\n",
              "      <td>-1.076779</td>\n",
              "      <td>-0.361017</td>\n",
              "      <td>-0.572703</td>\n",
              "      <td>0.642538</td>\n",
              "      <td>1.717267</td>\n",
              "      <td>-1.802342</td>\n",
              "      <td>-0.525153</td>\n",
              "      <td>-3.895098</td>\n",
              "      <td>1.881722</td>\n",
              "      <td>4.090445</td>\n",
              "      <td>-0.366290</td>\n",
              "      <td>-1.585102</td>\n",
              "      <td>-0.229968</td>\n",
              "      <td>0.128998</td>\n",
              "      <td>-3.140454</td>\n",
              "      <td>-1.397993</td>\n",
              "      <td>5.369781</td>\n",
              "      <td>-1.055338</td>\n",
              "      <td>2.515630</td>\n",
              "      <td>-1.723618</td>\n",
              "      <td>-0.415426</td>\n",
              "      <td>-2.816330</td>\n",
              "      <td>0.432327</td>\n",
              "      <td>1.355193</td>\n",
              "      <td>1</td>\n",
              "    </tr>\n",
              "    <tr>\n",
              "      <th>4</th>\n",
              "      <td>-0.006235</td>\n",
              "      <td>-0.368401</td>\n",
              "      <td>0.212226</td>\n",
              "      <td>-0.839388</td>\n",
              "      <td>-0.004492</td>\n",
              "      <td>0.065453</td>\n",
              "      <td>1.449749</td>\n",
              "      <td>-0.773678</td>\n",
              "      <td>1.280713</td>\n",
              "      <td>3.333645</td>\n",
              "      <td>-0.324998</td>\n",
              "      <td>-0.673307</td>\n",
              "      <td>-0.573956</td>\n",
              "      <td>-2.936466</td>\n",
              "      <td>-0.356823</td>\n",
              "      <td>-1.527922</td>\n",
              "      <td>1.240234</td>\n",
              "      <td>-3.357411</td>\n",
              "      <td>0.586479</td>\n",
              "      <td>2.457400</td>\n",
              "      <td>-1.502219</td>\n",
              "      <td>-0.196123</td>\n",
              "      <td>3.500016</td>\n",
              "      <td>0.015047</td>\n",
              "      <td>0.077092</td>\n",
              "      <td>1</td>\n",
              "    </tr>\n",
              "  </tbody>\n",
              "</table>\n",
              "</div>"
            ],
            "text/plain": [
              "         X1        X2        X3        X4  ...       X23       X24       X25  Y\n",
              "0  0.099427  0.757122  0.347820 -1.070386  ...  2.010244  0.640326 -0.696634  0\n",
              "1  0.324543 -0.260349 -0.692412 -1.098060  ... -2.038009  1.653168  0.755058  0\n",
              "2 -0.189937  0.402457  0.089148  0.054241  ...  2.228478  1.636842 -0.630777  0\n",
              "3 -1.213477 -1.076779 -0.361017 -0.572703  ... -2.816330  0.432327  1.355193  1\n",
              "4 -0.006235 -0.368401  0.212226 -0.839388  ...  3.500016  0.015047  0.077092  1\n",
              "\n",
              "[5 rows x 26 columns]"
            ]
          },
          "metadata": {
            "tags": []
          },
          "execution_count": 8
        }
      ]
    },
    {
      "cell_type": "code",
      "metadata": {
        "id": "VpaQVR3mJBTi",
        "outputId": "b942c436-7eb9-4ca4-8795-57e53b52a256",
        "colab": {
          "base_uri": "https://localhost:8080/",
          "height": 226
        }
      },
      "source": [
        "X.head()"
      ],
      "execution_count": 9,
      "outputs": [
        {
          "output_type": "execute_result",
          "data": {
            "text/html": [
              "<div>\n",
              "<style scoped>\n",
              "    .dataframe tbody tr th:only-of-type {\n",
              "        vertical-align: middle;\n",
              "    }\n",
              "\n",
              "    .dataframe tbody tr th {\n",
              "        vertical-align: top;\n",
              "    }\n",
              "\n",
              "    .dataframe thead th {\n",
              "        text-align: right;\n",
              "    }\n",
              "</style>\n",
              "<table border=\"1\" class=\"dataframe\">\n",
              "  <thead>\n",
              "    <tr style=\"text-align: right;\">\n",
              "      <th></th>\n",
              "      <th>X1</th>\n",
              "      <th>X2</th>\n",
              "      <th>X3</th>\n",
              "      <th>X4</th>\n",
              "      <th>X5</th>\n",
              "      <th>X6</th>\n",
              "      <th>X7</th>\n",
              "      <th>X8</th>\n",
              "      <th>X9</th>\n",
              "      <th>X10</th>\n",
              "      <th>X11</th>\n",
              "      <th>X12</th>\n",
              "      <th>X13</th>\n",
              "      <th>X14</th>\n",
              "      <th>X15</th>\n",
              "      <th>X16</th>\n",
              "      <th>X17</th>\n",
              "      <th>X18</th>\n",
              "      <th>X19</th>\n",
              "      <th>X20</th>\n",
              "      <th>X21</th>\n",
              "      <th>X22</th>\n",
              "      <th>X23</th>\n",
              "      <th>X24</th>\n",
              "      <th>X25</th>\n",
              "    </tr>\n",
              "  </thead>\n",
              "  <tbody>\n",
              "    <tr>\n",
              "      <th>0</th>\n",
              "      <td>0.099427</td>\n",
              "      <td>0.757122</td>\n",
              "      <td>0.347820</td>\n",
              "      <td>-1.070386</td>\n",
              "      <td>1.113921</td>\n",
              "      <td>-0.288057</td>\n",
              "      <td>2.092496</td>\n",
              "      <td>0.304778</td>\n",
              "      <td>-0.329318</td>\n",
              "      <td>-0.038145</td>\n",
              "      <td>2.921090</td>\n",
              "      <td>3.408453</td>\n",
              "      <td>-0.437612</td>\n",
              "      <td>-3.465816</td>\n",
              "      <td>1.562345</td>\n",
              "      <td>-1.799570</td>\n",
              "      <td>-1.245938</td>\n",
              "      <td>-2.257595</td>\n",
              "      <td>-0.960139</td>\n",
              "      <td>-1.144377</td>\n",
              "      <td>0.194332</td>\n",
              "      <td>-1.729705</td>\n",
              "      <td>2.010244</td>\n",
              "      <td>0.640326</td>\n",
              "      <td>-0.696634</td>\n",
              "    </tr>\n",
              "    <tr>\n",
              "      <th>1</th>\n",
              "      <td>0.324543</td>\n",
              "      <td>-0.260349</td>\n",
              "      <td>-0.692412</td>\n",
              "      <td>-1.098060</td>\n",
              "      <td>-1.406162</td>\n",
              "      <td>-0.203042</td>\n",
              "      <td>0.332072</td>\n",
              "      <td>0.584899</td>\n",
              "      <td>0.733966</td>\n",
              "      <td>3.067573</td>\n",
              "      <td>-0.147917</td>\n",
              "      <td>-0.870159</td>\n",
              "      <td>-0.098151</td>\n",
              "      <td>2.753201</td>\n",
              "      <td>2.299927</td>\n",
              "      <td>-0.489224</td>\n",
              "      <td>-2.583689</td>\n",
              "      <td>4.949201</td>\n",
              "      <td>-1.341392</td>\n",
              "      <td>-3.202330</td>\n",
              "      <td>-1.561950</td>\n",
              "      <td>0.152978</td>\n",
              "      <td>-2.038009</td>\n",
              "      <td>1.653168</td>\n",
              "      <td>0.755058</td>\n",
              "    </tr>\n",
              "    <tr>\n",
              "      <th>2</th>\n",
              "      <td>-0.189937</td>\n",
              "      <td>0.402457</td>\n",
              "      <td>0.089148</td>\n",
              "      <td>0.054241</td>\n",
              "      <td>0.314468</td>\n",
              "      <td>-1.655762</td>\n",
              "      <td>2.168431</td>\n",
              "      <td>0.631021</td>\n",
              "      <td>0.543823</td>\n",
              "      <td>-1.299421</td>\n",
              "      <td>1.554148</td>\n",
              "      <td>1.773814</td>\n",
              "      <td>-0.056310</td>\n",
              "      <td>-5.309216</td>\n",
              "      <td>3.922193</td>\n",
              "      <td>-2.894797</td>\n",
              "      <td>-1.066901</td>\n",
              "      <td>-4.590644</td>\n",
              "      <td>1.501284</td>\n",
              "      <td>0.231559</td>\n",
              "      <td>0.477412</td>\n",
              "      <td>0.820842</td>\n",
              "      <td>2.228478</td>\n",
              "      <td>1.636842</td>\n",
              "      <td>-0.630777</td>\n",
              "    </tr>\n",
              "    <tr>\n",
              "      <th>3</th>\n",
              "      <td>-1.213477</td>\n",
              "      <td>-1.076779</td>\n",
              "      <td>-0.361017</td>\n",
              "      <td>-0.572703</td>\n",
              "      <td>0.642538</td>\n",
              "      <td>1.717267</td>\n",
              "      <td>-1.802342</td>\n",
              "      <td>-0.525153</td>\n",
              "      <td>-3.895098</td>\n",
              "      <td>1.881722</td>\n",
              "      <td>4.090445</td>\n",
              "      <td>-0.366290</td>\n",
              "      <td>-1.585102</td>\n",
              "      <td>-0.229968</td>\n",
              "      <td>0.128998</td>\n",
              "      <td>-3.140454</td>\n",
              "      <td>-1.397993</td>\n",
              "      <td>5.369781</td>\n",
              "      <td>-1.055338</td>\n",
              "      <td>2.515630</td>\n",
              "      <td>-1.723618</td>\n",
              "      <td>-0.415426</td>\n",
              "      <td>-2.816330</td>\n",
              "      <td>0.432327</td>\n",
              "      <td>1.355193</td>\n",
              "    </tr>\n",
              "    <tr>\n",
              "      <th>4</th>\n",
              "      <td>-0.006235</td>\n",
              "      <td>-0.368401</td>\n",
              "      <td>0.212226</td>\n",
              "      <td>-0.839388</td>\n",
              "      <td>-0.004492</td>\n",
              "      <td>0.065453</td>\n",
              "      <td>1.449749</td>\n",
              "      <td>-0.773678</td>\n",
              "      <td>1.280713</td>\n",
              "      <td>3.333645</td>\n",
              "      <td>-0.324998</td>\n",
              "      <td>-0.673307</td>\n",
              "      <td>-0.573956</td>\n",
              "      <td>-2.936466</td>\n",
              "      <td>-0.356823</td>\n",
              "      <td>-1.527922</td>\n",
              "      <td>1.240234</td>\n",
              "      <td>-3.357411</td>\n",
              "      <td>0.586479</td>\n",
              "      <td>2.457400</td>\n",
              "      <td>-1.502219</td>\n",
              "      <td>-0.196123</td>\n",
              "      <td>3.500016</td>\n",
              "      <td>0.015047</td>\n",
              "      <td>0.077092</td>\n",
              "    </tr>\n",
              "  </tbody>\n",
              "</table>\n",
              "</div>"
            ],
            "text/plain": [
              "         X1        X2        X3  ...       X23       X24       X25\n",
              "0  0.099427  0.757122  0.347820  ...  2.010244  0.640326 -0.696634\n",
              "1  0.324543 -0.260349 -0.692412  ... -2.038009  1.653168  0.755058\n",
              "2 -0.189937  0.402457  0.089148  ...  2.228478  1.636842 -0.630777\n",
              "3 -1.213477 -1.076779 -0.361017  ... -2.816330  0.432327  1.355193\n",
              "4 -0.006235 -0.368401  0.212226  ...  3.500016  0.015047  0.077092\n",
              "\n",
              "[5 rows x 25 columns]"
            ]
          },
          "metadata": {
            "tags": []
          },
          "execution_count": 9
        }
      ]
    },
    {
      "cell_type": "code",
      "metadata": {
        "id": "GNMGbda-JOBz",
        "outputId": "b99b14e5-1f1c-4e8c-d1bd-cf0ca87308fa",
        "colab": {
          "base_uri": "https://localhost:8080/",
          "height": 127
        }
      },
      "source": [
        "Y.head()"
      ],
      "execution_count": 11,
      "outputs": [
        {
          "output_type": "execute_result",
          "data": {
            "text/plain": [
              "0    0\n",
              "1    0\n",
              "2    0\n",
              "3    1\n",
              "4    1\n",
              "Name: Y, dtype: int64"
            ]
          },
          "metadata": {
            "tags": []
          },
          "execution_count": 11
        }
      ]
    },
    {
      "cell_type": "code",
      "metadata": {
        "id": "wS4eyImzJePI",
        "outputId": "c4d0b24c-0179-4253-f6a8-11c90e0b1b63",
        "colab": {
          "base_uri": "https://localhost:8080/",
          "height": 109
        }
      },
      "source": [
        "# feature extraction\n",
        "model = ExtraTreesClassifier(n_estimators=100)\n",
        "model.fit(X, Y)\n",
        "print(model.feature_importances_)"
      ],
      "execution_count": 12,
      "outputs": [
        {
          "output_type": "stream",
          "text": [
            "[0.00786084 0.00776475 0.00770137 0.0074824  0.00729896 0.00758739\n",
            " 0.00789984 0.00753446 0.08292478 0.10761162 0.02682898 0.02990167\n",
            " 0.08790782 0.04079596 0.12128759 0.02599028 0.02368471 0.05406087\n",
            " 0.00792833 0.22121994 0.00794869 0.00752571 0.07822065 0.00756582\n",
            " 0.00746656]\n"
          ],
          "name": "stdout"
        }
      ]
    },
    {
      "cell_type": "markdown",
      "metadata": {
        "id": "uO2ZXUDDJ7Ma"
      },
      "source": [
        "## PCA"
      ]
    },
    {
      "cell_type": "markdown",
      "metadata": {
        "id": "NFzxZCtaJlXl"
      },
      "source": [
        "### **Feature Extraction with PCA**"
      ]
    },
    {
      "cell_type": "code",
      "metadata": {
        "id": "iXBM0tR8Jj4-"
      },
      "source": [
        "from sklearn.decomposition import PCA"
      ],
      "execution_count": 13,
      "outputs": []
    },
    {
      "cell_type": "code",
      "metadata": {
        "id": "RnOvBhx2KE1J",
        "outputId": "ef63fe4d-a128-43ab-b0bc-63039a7acc14",
        "colab": {
          "base_uri": "https://localhost:8080/",
          "height": 421
        }
      },
      "source": [
        "# feature extraction\n",
        "pca = PCA(n_components=3)\n",
        "fit = pca.fit(X)\n",
        "# summarize components\n",
        "print(\"Explained Variance: %s\" % fit.explained_variance_ratio_)\n",
        "print(fit.components_)"
      ],
      "execution_count": 14,
      "outputs": [
        {
          "output_type": "stream",
          "text": [
            "Explained Variance: [0.33817049 0.13694106 0.08991985]\n",
            "[[-1.93391051e-03  1.56247828e-07  1.08084160e-03 -2.24978732e-03\n",
            "  -4.70644400e-04  2.45602263e-03  4.85349200e-04  2.32985698e-04\n",
            "  -1.11900477e-01  9.53978410e-02  7.89416582e-02 -2.95579847e-01\n",
            "  -2.22160351e-01  2.24013112e-01  1.06789730e-01  1.15035413e-01\n",
            "   4.18108831e-01  7.48161586e-01  5.24238689e-04 -9.16017226e-02\n",
            "  -1.08219878e-04  4.51082499e-04 -1.32792713e-01 -1.04866757e-03\n",
            "   6.15182865e-04]\n",
            " [-2.61873839e-03 -4.36490115e-03 -1.97315086e-03 -1.38693006e-03\n",
            "  -5.88584619e-04  5.68961048e-04 -3.02006149e-03  1.50067356e-03\n",
            "   3.52416100e-01 -1.26871312e-01  1.46570123e-01  9.62652243e-02\n",
            "  -1.58265507e-01 -2.78493386e-01 -1.74638112e-01  2.30536557e-01\n",
            "   6.94405005e-01 -2.31763719e-01 -1.50289675e-03 -1.21306890e-01\n",
            "   9.42291586e-04 -6.06421281e-03  3.03280103e-01  3.74139361e-03\n",
            "   2.31707283e-04]\n",
            " [-1.14172331e-02  1.73396283e-03 -1.73440458e-03  9.59556101e-04\n",
            "   2.75368502e-03  2.04239450e-03  3.67583359e-04 -1.19380929e-04\n",
            "  -5.07998222e-01  2.14495411e-01  1.95096344e-01 -8.83986893e-03\n",
            "   6.81651555e-02 -4.21974573e-02 -1.92316160e-01 -3.82749895e-02\n",
            "   1.65698963e-01 -4.53694725e-03 -2.73380500e-03  6.60972253e-01\n",
            "   7.44724967e-03  4.74337674e-04  3.85146255e-01 -2.59369728e-04\n",
            "  -3.10755043e-04]]\n"
          ],
          "name": "stdout"
        }
      ]
    },
    {
      "cell_type": "code",
      "metadata": {
        "id": "fccHMxNcLD_e"
      },
      "source": [
        ""
      ],
      "execution_count": null,
      "outputs": []
    },
    {
      "cell_type": "markdown",
      "metadata": {
        "id": "aNfc-Es6LULP"
      },
      "source": [
        "## Recursive_feature_elimination"
      ]
    },
    {
      "cell_type": "markdown",
      "metadata": {
        "id": "L0j7pKQxLfH5"
      },
      "source": [
        "### **Feature Selection with RFE**\n"
      ]
    },
    {
      "cell_type": "code",
      "metadata": {
        "id": "Qu4-ZvjNLVSk"
      },
      "source": [
        "\n",
        "from sklearn.feature_selection import RFE\n",
        "from sklearn.linear_model import LogisticRegression"
      ],
      "execution_count": 15,
      "outputs": []
    },
    {
      "cell_type": "code",
      "metadata": {
        "id": "n9Gy5z23LuKz",
        "outputId": "0da4a977-4ea9-4872-cfcc-6a28481e35b9",
        "colab": {
          "base_uri": "https://localhost:8080/",
          "height": 127
        }
      },
      "source": [
        "# feature extraction\n",
        "model = LogisticRegression(solver='liblinear')\n",
        "rfe = RFE(model, 3)\n",
        "fit = rfe.fit(X, Y)\n",
        "print(\"Num Features: %d\" % fit.n_features_)\n",
        "print(\"Selected Features: %s\" % fit.support_)\n",
        "print(\"Feature Ranking: %s\" % fit.ranking_)"
      ],
      "execution_count": 16,
      "outputs": [
        {
          "output_type": "stream",
          "text": [
            "Num Features: 3\n",
            "Selected Features: [False False False False False False False False False  True False False\n",
            "  True False False False False False False  True False False False False\n",
            " False]\n",
            "Feature Ranking: [19 13 16 18 23 17 11 14  4  1  6  8  1  5  3  7 21  9 15  1 20 22  2 10\n",
            " 12]\n"
          ],
          "name": "stdout"
        }
      ]
    },
    {
      "cell_type": "code",
      "metadata": {
        "id": "Qod-KwTML0cw"
      },
      "source": [
        ""
      ],
      "execution_count": null,
      "outputs": []
    },
    {
      "cell_type": "markdown",
      "metadata": {
        "id": "4o7rW4MfMErn"
      },
      "source": [
        "## univariate_selection"
      ]
    },
    {
      "cell_type": "markdown",
      "metadata": {
        "id": "w_CXTFU_L7O1"
      },
      "source": [
        "### **Feature Selection with Univariate Statistical Tests**"
      ]
    },
    {
      "cell_type": "code",
      "metadata": {
        "id": "HaAdQ-N7MBqE"
      },
      "source": [
        "from numpy import set_printoptions\n",
        "from sklearn.feature_selection import SelectKBest\n",
        "from sklearn.feature_selection import f_classif"
      ],
      "execution_count": 17,
      "outputs": []
    },
    {
      "cell_type": "code",
      "metadata": {
        "id": "le8yAmgKMksa"
      },
      "source": [
        "# feature extraction\n",
        "test = SelectKBest(score_func=f_classif, k=4)\n",
        "fit = test.fit(X, Y)"
      ],
      "execution_count": 18,
      "outputs": []
    },
    {
      "cell_type": "code",
      "metadata": {
        "id": "IFlJngBBMroq",
        "outputId": "2cb7b88a-ef86-4cd9-d907-d75d3cf31dd4",
        "colab": {
          "base_uri": "https://localhost:8080/",
          "height": 90
        }
      },
      "source": [
        "# summarize scores\n",
        "set_printoptions(precision=3)\n",
        "print(fit.scores_)"
      ],
      "execution_count": 19,
      "outputs": [
        {
          "output_type": "stream",
          "text": [
            "[2.315e+00 1.009e-01 1.473e-01 5.567e-06 1.957e-03 1.104e+00 1.757e-01\n",
            " 9.235e-02 1.090e+03 1.259e+03 3.867e+00 6.147e-03 1.261e+03 2.556e-03\n",
            " 1.359e+03 1.056e-01 1.230e+02 2.373e+02 6.973e-01 7.100e+03 1.842e+00\n",
            " 2.941e-02 1.303e+03 1.871e+00 1.431e+00]\n"
          ],
          "name": "stdout"
        }
      ]
    },
    {
      "cell_type": "code",
      "metadata": {
        "id": "rgBdYwBGMvFt",
        "outputId": "aafb77ef-ce7b-4ab6-83cc-b229f99ad155",
        "colab": {
          "base_uri": "https://localhost:8080/",
          "height": 109
        }
      },
      "source": [
        "features = fit.transform(X)\n",
        "# summarize selected features\n",
        "print(features[0:5,:])"
      ],
      "execution_count": 20,
      "outputs": [
        {
          "output_type": "stream",
          "text": [
            "[[-0.438  1.562 -1.144  2.01 ]\n",
            " [-0.098  2.3   -3.202 -2.038]\n",
            " [-0.056  3.922  0.232  2.228]\n",
            " [-1.585  0.129  2.516 -2.816]\n",
            " [-0.574 -0.357  2.457  3.5  ]]\n"
          ],
          "name": "stdout"
        }
      ]
    },
    {
      "cell_type": "code",
      "metadata": {
        "id": "GRn-RNHdMyQ3"
      },
      "source": [
        ""
      ],
      "execution_count": null,
      "outputs": []
    }
  ]
}